{
 "cells": [
  {
   "cell_type": "markdown",
   "metadata": {},
   "source": [
    "# Корзун В.А. группа 395г\n",
    "## Задание №1\n",
    "### Часть 1. Сбор данных"
   ]
  },
  {
   "cell_type": "markdown",
   "metadata": {},
   "source": [
    "Падна для создания таблички и pprint для красивого вывода dict-ов"
   ]
  },
  {
   "cell_type": "code",
   "execution_count": 165,
   "metadata": {},
   "outputs": [],
   "source": [
    "import pandas as pd\n",
    "from pprint import pprint"
   ]
  },
  {
   "cell_type": "markdown",
   "metadata": {},
   "source": [
    "Использую API apixu https://github.com/apixu/apixu-python, т.к. в пару строк выдает JSON, который легко распарсить"
   ]
  },
  {
   "cell_type": "code",
   "execution_count": 1,
   "metadata": {},
   "outputs": [],
   "source": [
    "from apixu.client import ApixuClient, ApixuException\n",
    "api_key = '17a31ecbe59348d598183015181203'\n",
    "client = ApixuClient(api_key)"
   ]
  },
  {
   "cell_type": "code",
   "execution_count": 4,
   "metadata": {},
   "outputs": [],
   "source": [
    "forecast = client.getForecastWeather(q='Moscow', days='10')['forecast']['forecastday']"
   ]
  },
  {
   "cell_type": "markdown",
   "metadata": {},
   "source": [
    "Вот такой имеем формат"
   ]
  },
  {
   "cell_type": "code",
   "execution_count": 167,
   "metadata": {},
   "outputs": [
    {
     "name": "stdout",
     "output_type": "stream",
     "text": [
      "{u'astro': {u'moonrise': u'04:44 AM',\n",
      "            u'moonset': u'12:43 PM',\n",
      "            u'sunrise': u'06:53 AM',\n",
      "            u'sunset': u'06:26 PM'},\n",
      " u'date': u'2018-03-12',\n",
      " u'date_epoch': 1520812800,\n",
      " u'day': {u'avghumidity': 94.0,\n",
      "          u'avgtemp_c': -4.4,\n",
      "          u'avgtemp_f': 24.1,\n",
      "          u'avgvis_km': 14.1,\n",
      "          u'avgvis_miles': 8.0,\n",
      "          u'condition': {u'code': 1219,\n",
      "                         u'icon': u'//cdn.apixu.com/weather/64x64/day/332.png',\n",
      "                         u'text': u'Moderate snow'},\n",
      "          u'maxtemp_c': -0.3,\n",
      "          u'maxtemp_f': 31.5,\n",
      "          u'maxwind_kph': 17.6,\n",
      "          u'maxwind_mph': 11.0,\n",
      "          u'mintemp_c': -7.3,\n",
      "          u'mintemp_f': 18.9,\n",
      "          u'totalprecip_in': 0.05,\n",
      "          u'totalprecip_mm': 1.3,\n",
      "          u'uv': 1.6}}\n"
     ]
    }
   ],
   "source": [
    "pprint(forecast[0])"
   ]
  },
  {
   "cell_type": "code",
   "execution_count": 5,
   "metadata": {},
   "outputs": [],
   "source": [
    "date_kw = 'date'\n",
    "min_t_kw = 'mintemp_c'\n",
    "max_t_kw = 'maxtemp_c'\n",
    "wind_kw = 'maxwind_kph'\n",
    "day_kw = 'day'\n",
    "precip_kw = 'totalprecip_mm'"
   ]
  },
  {
   "cell_type": "markdown",
   "metadata": {},
   "source": [
    "Просто заолняем dict нужными данными"
   ]
  },
  {
   "cell_type": "code",
   "execution_count": 161,
   "metadata": {},
   "outputs": [
    {
     "name": "stdout",
     "output_type": "stream",
     "text": [
      "7\n"
     ]
    }
   ],
   "source": [
    "data = {'date' : [], 'min_t' : [] , 'max_t' :  [], 'precip' : [], 'wind_speed' : [] }\n",
    "print(len(forecast))\n",
    "for daily_forecast in forecast:\n",
    "    data['date'].append(daily_forecast[date_kw])\n",
    "    weather_values = daily_forecast[day_kw]\n",
    "    data['min_t'].append(weather_values[min_t_kw])\n",
    "    data['max_t'].append(weather_values[max_t_kw])\n",
    "    data['precip'].append(weather_values[wind_kw])\n",
    "    data['wind_speed'].append(weather_values[precip_kw])"
   ]
  },
  {
   "cell_type": "markdown",
   "metadata": {},
   "source": [
    "Прогноз только на неделю, хотя просил на 10 дней :("
   ]
  },
  {
   "cell_type": "code",
   "execution_count": 14,
   "metadata": {},
   "outputs": [
    {
     "data": {
      "text/html": [
       "<div>\n",
       "<style scoped>\n",
       "    .dataframe tbody tr th:only-of-type {\n",
       "        vertical-align: middle;\n",
       "    }\n",
       "\n",
       "    .dataframe tbody tr th {\n",
       "        vertical-align: top;\n",
       "    }\n",
       "\n",
       "    .dataframe thead th {\n",
       "        text-align: right;\n",
       "    }\n",
       "</style>\n",
       "<table border=\"1\" class=\"dataframe\">\n",
       "  <thead>\n",
       "    <tr style=\"text-align: right;\">\n",
       "      <th></th>\n",
       "      <th>date</th>\n",
       "      <th>max_t</th>\n",
       "      <th>min_t</th>\n",
       "      <th>precip</th>\n",
       "      <th>wind_speed</th>\n",
       "    </tr>\n",
       "  </thead>\n",
       "  <tbody>\n",
       "    <tr>\n",
       "      <th>0</th>\n",
       "      <td>2018-03-12</td>\n",
       "      <td>-0.3</td>\n",
       "      <td>-7.3</td>\n",
       "      <td>17.6</td>\n",
       "      <td>1.3</td>\n",
       "    </tr>\n",
       "    <tr>\n",
       "      <th>1</th>\n",
       "      <td>2018-03-13</td>\n",
       "      <td>1.1</td>\n",
       "      <td>-6.5</td>\n",
       "      <td>22.3</td>\n",
       "      <td>1.7</td>\n",
       "    </tr>\n",
       "    <tr>\n",
       "      <th>2</th>\n",
       "      <td>2018-03-14</td>\n",
       "      <td>-1.3</td>\n",
       "      <td>-3.9</td>\n",
       "      <td>19.1</td>\n",
       "      <td>2.5</td>\n",
       "    </tr>\n",
       "    <tr>\n",
       "      <th>3</th>\n",
       "      <td>2018-03-15</td>\n",
       "      <td>-2.7</td>\n",
       "      <td>-15.7</td>\n",
       "      <td>19.4</td>\n",
       "      <td>8.4</td>\n",
       "    </tr>\n",
       "    <tr>\n",
       "      <th>4</th>\n",
       "      <td>2018-03-16</td>\n",
       "      <td>-12.4</td>\n",
       "      <td>-19.2</td>\n",
       "      <td>19.8</td>\n",
       "      <td>0.5</td>\n",
       "    </tr>\n",
       "  </tbody>\n",
       "</table>\n",
       "</div>"
      ],
      "text/plain": [
       "         date  max_t  min_t  precip  wind_speed\n",
       "0  2018-03-12   -0.3   -7.3    17.6         1.3\n",
       "1  2018-03-13    1.1   -6.5    22.3         1.7\n",
       "2  2018-03-14   -1.3   -3.9    19.1         2.5\n",
       "3  2018-03-15   -2.7  -15.7    19.4         8.4\n",
       "4  2018-03-16  -12.4  -19.2    19.8         0.5"
      ]
     },
     "execution_count": 14,
     "metadata": {},
     "output_type": "execute_result"
    }
   ],
   "source": [
    "data = pd.DataFrame(data)\n",
    "data.head()"
   ]
  },
  {
   "cell_type": "markdown",
   "metadata": {},
   "source": [
    "Не буду делать колонки таблицы в приведенном задании формате, так как не вижу в этом смысла. Надеюсь такого формата будет достаточно"
   ]
  },
  {
   "cell_type": "markdown",
   "metadata": {},
   "source": [
    "### Часть 2. Генератор описания прогноза погоды"
   ]
  },
  {
   "cell_type": "markdown",
   "metadata": {},
   "source": [
    "Будем исполдьзовать pymorphy2 для морфологии как было показано в задании и datetime для работы с датами"
   ]
  },
  {
   "cell_type": "code",
   "execution_count": null,
   "metadata": {},
   "outputs": [],
   "source": [
    "import datetime as dt\n",
    "import pymorphy2"
   ]
  },
  {
   "cell_type": "code",
   "execution_count": 38,
   "metadata": {},
   "outputs": [],
   "source": [
    "morph = pymorphy2.MorphAnalyzer()"
   ]
  },
  {
   "cell_type": "markdown",
   "metadata": {},
   "source": [
    "Вспомогательные функции для обработки datetime и выбора строки из таблички"
   ]
  },
  {
   "cell_type": "code",
   "execution_count": 133,
   "metadata": {},
   "outputs": [],
   "source": [
    "weekday_dict = {0 : u'понедельник', 1 : u'вторник', 2 : u'среда',\n",
    "                3 : u'четверг', 4 : u'пятница', 5 : u'суббота', 6 : u'воскресенье' }\n",
    "\n",
    "def get_row(data, index):\n",
    "    row = {}\n",
    "    for col in data.columns:\n",
    "        row[col] = data[col][index]\n",
    "    return row\n",
    "\n",
    "def get_weekday(row):\n",
    "    weekday_num = dt.datetime.strptime(row['date'],'%Y-%m-%d').weekday()\n",
    "    return weekday_dict[weekday_num]\n",
    "\n",
    "def get_days_delta(row_1, row_2):\n",
    "    dt1 =  dt.datetime.strptime(row_1['date'],'%Y-%m-%d')\n",
    "    dt2 =  dt.datetime.strptime(row_2['date'],'%Y-%m-%d')\n",
    "    return abs((dt2 - dt1).days)"
   ]
  },
  {
   "cell_type": "markdown",
   "metadata": {},
   "source": [
    "Мне лень придумывать свои шаблоны, поэтому реализую предложенные"
   ]
  },
  {
   "cell_type": "code",
   "execution_count": 155,
   "metadata": {},
   "outputs": [],
   "source": [
    "def template_1(row_1, row_2):\n",
    "    delta = int(row_2['max_t'] - row_1['max_t'])\n",
    "    is_warmed = u'потеплеет' if delta > 0 else u'похолодает'\n",
    "    weekday_2 = morph.parse(get_weekday(row_2))[0].inflect({'accs'}).word\n",
    "    weekday_1 = morph.parse(get_weekday(row_1))[0].inflect({'ablt'}).word\n",
    "    degree = morph.parse(u'градус')[0].make_agree_with_number(abs(delta)).word\n",
    "    pretext = u'с' if dt.datetime.strptime(row_1['date'],'%Y-%m-%d').weekday() != 2 else u'со'\n",
    "    template = u'В %s в Москве %s на %d %s по сравнению %s %s' \n",
    "    return template % (weekday_2, is_warmed, abs(delta), degree, pretext, weekday_1)\n",
    "\n",
    "def template_2(row_1, row_2):\n",
    "    delta = abs(int(row_2['wind_speed'] - row_1['wind_speed']))\n",
    "    weekday_2 = morph.parse(get_weekday(row_2))[0].inflect({'accs'}).word\n",
    "    weekday_1 = morph.parse(get_weekday(row_1))[0].inflect({'ablt'}).word\n",
    "    pretext = u'с' if dt.datetime.strptime(row_1['date'],'%Y-%m-%d').weekday() != 2 else u'со'\n",
    "    template = u'Скорость ветра изменится на %d км/час в %s по сравнению %s %s'\n",
    "    return template % (delta, weekday_2, pretext, weekday_1)\n",
    "\n",
    "def template_3(row_1, row_2):\n",
    "    delta_precip = row_2['precip'] - row1['precip']\n",
    "    delta_day = get_days_delta(row_1, row_2)   \n",
    "    days_word = morph.parse(u'день')[0].make_agree_with_number(delta_day).word\n",
    "    near_word = morph.parse(u'ближайший')[0].make_agree_with_number(delta_day).inflect({'nomn'}).word\n",
    "    template_minus = u'Уровень осадков понизится на %.2f мм за %d %s'\n",
    "    template_plus = u'Выпадет %.2f мм снега за %s %d %s'\n",
    "    if delta_precip < 0:       \n",
    "        return template_minus % (abs(delta_precip), delta_day, days_word)\n",
    "    else:\n",
    "        return template_plus % (abs(delta_precip), near_word, delta_day, days_word)\n",
    "    "
   ]
  },
  {
   "cell_type": "markdown",
   "metadata": {},
   "source": [
    "Выведем все пары дней(соблюдая стандартное течение времени), которые есть в таблице. "
   ]
  },
  {
   "cell_type": "code",
   "execution_count": 160,
   "metadata": {},
   "outputs": [
    {
     "name": "stdout",
     "output_type": "stream",
     "text": [
      "В вторник в Москве потеплеет на 1 градус по сравнению с понедельником\n",
      "Скорость ветра изменится на 0 км/час в вторник по сравнению с понедельником\n",
      "Выпадет 4.70 мм снега за ближайший 1 день\n",
      "\n",
      "В среду в Москве похолодает на 1 градус по сравнению с понедельником\n",
      "Скорость ветра изменится на 1 км/час в среду по сравнению с понедельником\n",
      "Выпадет 1.50 мм снега за ближайшие 2 дня\n",
      "\n",
      "В четверг в Москве похолодает на 2 градуса по сравнению с понедельником\n",
      "Скорость ветра изменится на 7 км/час в четверг по сравнению с понедельником\n",
      "Выпадет 1.80 мм снега за ближайшие 3 дня\n",
      "\n",
      "В пятницу в Москве похолодает на 12 градусов по сравнению с понедельником\n",
      "Скорость ветра изменится на 0 км/час в пятницу по сравнению с понедельником\n",
      "Выпадет 2.20 мм снега за ближайшие 4 дня\n",
      "\n",
      "В субботу в Москве похолодает на 8 градусов по сравнению с понедельником\n",
      "Скорость ветра изменится на 1 км/час в субботу по сравнению с понедельником\n",
      "Уровень осадков понизится на 0.30 мм за 5 дней\n",
      "\n",
      "В воскресенье в Москве похолодает на 6 градусов по сравнению с понедельником\n",
      "Скорость ветра изменится на 1 км/час в воскресенье по сравнению с понедельником\n",
      "Уровень осадков понизится на 2.80 мм за 6 дней\n",
      "\n",
      "В среду в Москве похолодает на 2 градуса по сравнению с вторником\n",
      "Скорость ветра изменится на 0 км/час в среду по сравнению с вторником\n",
      "Выпадет 1.50 мм снега за ближайший 1 день\n",
      "\n",
      "В четверг в Москве похолодает на 3 градуса по сравнению с вторником\n",
      "Скорость ветра изменится на 6 км/час в четверг по сравнению с вторником\n",
      "Выпадет 1.80 мм снега за ближайшие 2 дня\n",
      "\n",
      "В пятницу в Москве похолодает на 13 градусов по сравнению с вторником\n",
      "Скорость ветра изменится на 1 км/час в пятницу по сравнению с вторником\n",
      "Выпадет 2.20 мм снега за ближайшие 3 дня\n",
      "\n",
      "В субботу в Москве похолодает на 9 градусов по сравнению с вторником\n",
      "Скорость ветра изменится на 1 км/час в субботу по сравнению с вторником\n",
      "Уровень осадков понизится на 0.30 мм за 4 дня\n",
      "\n",
      "В воскресенье в Москве похолодает на 8 градусов по сравнению с вторником\n",
      "Скорость ветра изменится на 1 км/час в воскресенье по сравнению с вторником\n",
      "Уровень осадков понизится на 2.80 мм за 5 дней\n",
      "\n",
      "В четверг в Москве похолодает на 1 градус по сравнению со средой\n",
      "Скорость ветра изменится на 5 км/час в четверг по сравнению со средой\n",
      "Выпадет 1.80 мм снега за ближайший 1 день\n",
      "\n",
      "В пятницу в Москве похолодает на 11 градусов по сравнению со средой\n",
      "Скорость ветра изменится на 2 км/час в пятницу по сравнению со средой\n",
      "Выпадет 2.20 мм снега за ближайшие 2 дня\n",
      "\n",
      "В субботу в Москве похолодает на 7 градусов по сравнению со средой\n",
      "Скорость ветра изменится на 2 км/час в субботу по сравнению со средой\n",
      "Уровень осадков понизится на 0.30 мм за 3 дня\n",
      "\n",
      "В воскресенье в Москве похолодает на 5 градусов по сравнению со средой\n",
      "Скорость ветра изменится на 2 км/час в воскресенье по сравнению со средой\n",
      "Уровень осадков понизится на 2.80 мм за 4 дня\n",
      "\n",
      "В пятницу в Москве похолодает на 9 градусов по сравнению с четвергом\n",
      "Скорость ветра изменится на 7 км/час в пятницу по сравнению с четвергом\n",
      "Выпадет 2.20 мм снега за ближайший 1 день\n",
      "\n",
      "В субботу в Москве похолодает на 5 градусов по сравнению с четвергом\n",
      "Скорость ветра изменится на 8 км/час в субботу по сравнению с четвергом\n",
      "Уровень осадков понизится на 0.30 мм за 2 дня\n",
      "\n",
      "В воскресенье в Москве похолодает на 4 градуса по сравнению с четвергом\n",
      "Скорость ветра изменится на 8 км/час в воскресенье по сравнению с четвергом\n",
      "Уровень осадков понизится на 2.80 мм за 3 дня\n",
      "\n",
      "В субботу в Москве потеплеет на 3 градуса по сравнению с пятницей\n",
      "Скорость ветра изменится на 0 км/час в субботу по сравнению с пятницей\n",
      "Уровень осадков понизится на 0.30 мм за 1 день\n",
      "\n",
      "В воскресенье в Москве потеплеет на 5 градусов по сравнению с пятницей\n",
      "Скорость ветра изменится на 0 км/час в воскресенье по сравнению с пятницей\n",
      "Уровень осадков понизится на 2.80 мм за 2 дня\n",
      "\n",
      "В воскресенье в Москве потеплеет на 1 градус по сравнению с субботой\n",
      "Скорость ветра изменится на 0 км/час в воскресенье по сравнению с субботой\n",
      "Уровень осадков понизится на 2.80 мм за 1 день\n",
      "\n"
     ]
    }
   ],
   "source": [
    "for i in range(len(data['date'])-1):\n",
    "    for j in range(i+1,len(data['date'])):\n",
    "        row_1 = get_row(data, i)\n",
    "        row_2 = get_row(data, j)\n",
    "        print template_1(row_1, row_2)\n",
    "        print template_2(row_1, row_2)\n",
    "        print template_3(row_1, row_2)\n",
    "        print"
   ]
  },
  {
   "cell_type": "markdown",
   "metadata": {},
   "source": [
    "### Часть 3. Ответы на вопросы"
   ]
  }
 ],
 "metadata": {
  "kernelspec": {
   "display_name": "Python 2",
   "language": "python",
   "name": "python2"
  },
  "language_info": {
   "codemirror_mode": {
    "name": "ipython",
    "version": 2
   },
   "file_extension": ".py",
   "mimetype": "text/x-python",
   "name": "python",
   "nbconvert_exporter": "python",
   "pygments_lexer": "ipython2",
   "version": "2.7.14"
  }
 },
 "nbformat": 4,
 "nbformat_minor": 2
}
