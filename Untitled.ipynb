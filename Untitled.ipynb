{
 "cells": [
  {
   "cell_type": "markdown",
   "metadata": {},
   "source": [
    "# Корзун В.А. \n",
    "## Задание №1"
   ]
  },
  {
   "cell_type": "code",
   "execution_count": 1,
   "metadata": {
    "collapsed": true
   },
   "outputs": [],
   "source": [
    "from apixu.client import ApixuClient, ApixuException\n",
    "api_key = '17a31ecbe59348d598183015181203'\n",
    "client = ApixuClient(api_key)"
   ]
  },
  {
   "cell_type": "code",
   "execution_count": 4,
   "metadata": {
    "collapsed": true
   },
   "outputs": [],
   "source": [
    "current = client.getForecastWeather(q='Moscow', days='10')"
   ]
  },
  {
   "cell_type": "code",
   "execution_count": null,
   "metadata": {
    "collapsed": true
   },
   "outputs": [],
   "source": [
    "date = 'date'\n",
    "min_t = 'mintemp_c'\n",
    "max_t = 'maxtemp_c'\n",
    "wind = ''"
   ]
  },
  {
   "cell_type": "code",
   "execution_count": 14,
   "metadata": {},
   "outputs": [
    {
     "name": "stdout",
     "output_type": "stream",
     "text": [
      "{u'date': u'2018-03-12', u'astro': {u'moonrise': u'04:44 AM', u'moonset': u'12:43 PM', u'sunset': u'06:26 PM', u'sunrise': u'06:53 AM'}, u'date_epoch': 1520812800, u'day': {u'avgvis_miles': 8.0, u'avghumidity': 94.0, u'totalprecip_mm': 2.3, u'avgtemp_c': -4.9, u'uv': 1.6, u'avgtemp_f': 23.2, u'maxwind_mph': 11.0, u'mintemp_f': 16.7, u'maxtemp_c': -0.8, u'mintemp_c': -8.5, u'maxtemp_f': 30.6, u'totalprecip_in': 0.09, u'maxwind_kph': 17.6, u'avgvis_km': 14.2, u'condition': {u'text': u'Moderate snow', u'code': 1219, u'icon': u'//cdn.apixu.com/weather/64x64/day/332.png'}}}\n"
     ]
    }
   ],
   "source": [
    "print current['forecast']['forecastday'][0]"
   ]
  }
 ],
 "metadata": {
  "kernelspec": {
   "display_name": "Python 2",
   "language": "python",
   "name": "python2"
  },
  "language_info": {
   "codemirror_mode": {
    "name": "ipython",
    "version": 2
   },
   "file_extension": ".py",
   "mimetype": "text/x-python",
   "name": "python",
   "nbconvert_exporter": "python",
   "pygments_lexer": "ipython2",
   "version": "2.7.14"
  }
 },
 "nbformat": 4,
 "nbformat_minor": 2
}
